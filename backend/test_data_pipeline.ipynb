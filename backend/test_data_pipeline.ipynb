{
 "cells": [
  {
   "cell_type": "code",
   "execution_count": 10,
   "id": "2a768fb7-34c7-4212-ae25-fb4b875b6652",
   "metadata": {},
   "outputs": [],
   "source": [
    "%load_ext autoreload\n",
    "%autoreload 2"
   ]
  },
  {
   "cell_type": "code",
   "execution_count": 1,
   "id": "888e6e64-8134-4b0d-afef-0d80f6111c75",
   "metadata": {},
   "outputs": [
    {
     "name": "stdout",
     "output_type": "stream",
     "text": [
      "   chart_date  year  rank         song_title  \\\n",
      "0  1958-08-04  1958     1   Poor Little Fool   \n",
      "1  1958-08-04  1958     2           Patricia   \n",
      "2  1958-08-04  1958     3      Splish Splash   \n",
      "3  1958-08-04  1958     4  Hard Headed Woman   \n",
      "4  1958-08-04  1958     5               When   \n",
      "\n",
      "                               artist   song_title_clean  \\\n",
      "0                        Ricky Nelson   poor little fool   \n",
      "1       Perez Prado And His Orchestra           patricia   \n",
      "2                         Bobby Darin      splish splash   \n",
      "3  Elvis Presley With The Jordanaires  hard headed woman   \n",
      "4                         Kalin Twins               when   \n",
      "\n",
      "                         artist_clean  \n",
      "0                        ricky nelson  \n",
      "1       perez prado and his orchestra  \n",
      "2                         bobby darin  \n",
      "3  elvis presley with the jordanaires  \n",
      "4                         kalin twins  \n"
     ]
    }
   ],
   "source": [
    "from lyrics_trends.scripts.fetch_billboard import load_and_clean_billboard\n",
    "\n",
    "csv_path = 'lyrics_trends/data/raw/hot-100-current.csv'\n",
    "df = load_and_clean_billboard(csv_path)\n",
    "print(df.head())"
   ]
  },
  {
   "cell_type": "code",
   "execution_count": 8,
   "id": "ed56b52f-48a2-4a7b-ae90-ccfbc91bbc08",
   "metadata": {},
   "outputs": [
    {
     "data": {
      "text/html": [
       "<div>\n",
       "<style scoped>\n",
       "    .dataframe tbody tr th:only-of-type {\n",
       "        vertical-align: middle;\n",
       "    }\n",
       "\n",
       "    .dataframe tbody tr th {\n",
       "        vertical-align: top;\n",
       "    }\n",
       "\n",
       "    .dataframe thead th {\n",
       "        text-align: right;\n",
       "    }\n",
       "</style>\n",
       "<table border=\"1\" class=\"dataframe\">\n",
       "  <thead>\n",
       "    <tr style=\"text-align: right;\">\n",
       "      <th></th>\n",
       "      <th>chart_date</th>\n",
       "      <th>year</th>\n",
       "      <th>rank</th>\n",
       "      <th>song_title</th>\n",
       "      <th>artist</th>\n",
       "    </tr>\n",
       "  </thead>\n",
       "  <tbody>\n",
       "    <tr>\n",
       "      <th>18226</th>\n",
       "      <td>2025-06-28</td>\n",
       "      <td>2025</td>\n",
       "      <td>27</td>\n",
       "      <td>Sorry I'm Here For Someone Else</td>\n",
       "      <td>Benson Boone</td>\n",
       "    </tr>\n",
       "    <tr>\n",
       "      <th>18236</th>\n",
       "      <td>2025-06-28</td>\n",
       "      <td>2025</td>\n",
       "      <td>37</td>\n",
       "      <td>Burning Blue</td>\n",
       "      <td>Mariah The Scientist</td>\n",
       "    </tr>\n",
       "    <tr>\n",
       "      <th>18225</th>\n",
       "      <td>2025-06-28</td>\n",
       "      <td>2025</td>\n",
       "      <td>26</td>\n",
       "      <td>I Got Better</td>\n",
       "      <td>Morgan Wallen</td>\n",
       "    </tr>\n",
       "    <tr>\n",
       "      <th>18227</th>\n",
       "      <td>2025-06-28</td>\n",
       "      <td>2025</td>\n",
       "      <td>28</td>\n",
       "      <td>Mystical Magical</td>\n",
       "      <td>Benson Boone</td>\n",
       "    </tr>\n",
       "    <tr>\n",
       "      <th>18228</th>\n",
       "      <td>2025-06-28</td>\n",
       "      <td>2025</td>\n",
       "      <td>29</td>\n",
       "      <td>Undressed</td>\n",
       "      <td>sombr</td>\n",
       "    </tr>\n",
       "  </tbody>\n",
       "</table>\n",
       "</div>"
      ],
      "text/plain": [
       "       chart_date  year  rank                       song_title  \\\n",
       "18226  2025-06-28  2025    27  Sorry I'm Here For Someone Else   \n",
       "18236  2025-06-28  2025    37                     Burning Blue   \n",
       "18225  2025-06-28  2025    26                     I Got Better   \n",
       "18227  2025-06-28  2025    28                 Mystical Magical   \n",
       "18228  2025-06-28  2025    29                        Undressed   \n",
       "\n",
       "                     artist  \n",
       "18226          Benson Boone  \n",
       "18236  Mariah The Scientist  \n",
       "18225         Morgan Wallen  \n",
       "18227          Benson Boone  \n",
       "18228                 sombr  "
      ]
     },
     "execution_count": 8,
     "metadata": {},
     "output_type": "execute_result"
    }
   ],
   "source": [
    "df.sort_values(by='chart_date', ascending=False).head()"
   ]
  }
 ],
 "metadata": {
  "kernelspec": {
   "display_name": "Python 3 (ipykernel)",
   "language": "python",
   "name": "python3"
  },
  "language_info": {
   "codemirror_mode": {
    "name": "ipython",
    "version": 3
   },
   "file_extension": ".py",
   "mimetype": "text/x-python",
   "name": "python",
   "nbconvert_exporter": "python",
   "pygments_lexer": "ipython3",
   "version": "3.11.12"
  }
 },
 "nbformat": 4,
 "nbformat_minor": 5
}
